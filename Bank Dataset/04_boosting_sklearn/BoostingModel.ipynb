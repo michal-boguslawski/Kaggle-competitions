{
 "cells": [
  {
   "cell_type": "markdown",
   "id": "7a1d6b7e",
   "metadata": {},
   "source": [
    "## Load Libraries"
   ]
  },
  {
   "cell_type": "code",
   "execution_count": 1,
   "id": "805e726c",
   "metadata": {},
   "outputs": [],
   "source": [
    "import pandas as pd\n",
    "# from sklearn.pipeline import Pipeline\n",
    "from sklearn.compose import ColumnTransformer\n",
    "from sklearn.preprocessing import OneHotEncoder, PowerTransformer, TargetEncoder, SplineTransformer, FunctionTransformer, Binarizer, MinMaxScaler, OrdinalEncoder\n",
    "from imblearn.pipeline import Pipeline\n",
    "from sklearn.model_selection import train_test_split\n",
    "from sklearn.linear_model import LogisticRegression\n",
    "from sklearn.ensemble import HistGradientBoostingClassifier\n",
    "from pathlib import Path\n",
    "import os\n",
    "from sklearn import set_config\n",
    "from imblearn.over_sampling import SMOTE\n",
    "import sys\n",
    "path = Path.cwd().parent\n",
    "\n",
    "# Absolute path to your package\n",
    "sys.path.append(os.path.join(path))\n",
    "\n",
    "from utils import convert_months_to_categorical, calculate_score, ClipValues, SinePreprocess\n",
    "\n",
    "# Enable pandas output globally\n",
    "set_config(transform_output=\"pandas\")"
   ]
  },
  {
   "cell_type": "markdown",
   "id": "bf1c3c51",
   "metadata": {},
   "source": [
    "## Load Data"
   ]
  },
  {
   "cell_type": "code",
   "execution_count": 2,
   "id": "fd5def31",
   "metadata": {},
   "outputs": [],
   "source": [
    "\n",
    "train_file_path = os.path.join(path, \"raw\", \"train.csv\")\n",
    "test_file_path = os.path.join(path, \"raw\", \"test.csv\")"
   ]
  },
  {
   "cell_type": "code",
   "execution_count": 3,
   "id": "ec6260be",
   "metadata": {},
   "outputs": [],
   "source": [
    "original_train_df = pd.read_csv(train_file_path, index_col=0)\n",
    "test_df = pd.read_csv(test_file_path, index_col=0)"
   ]
  },
  {
   "cell_type": "code",
   "execution_count": null,
   "id": "9c6c4603",
   "metadata": {},
   "outputs": [],
   "source": [
    "y_var = \"y\"\n",
    "categorical_variables = original_train_df.select_dtypes(include=\"object\").columns.to_list()\n",
    "numerical_variables = (\n",
    "    original_train_df\n",
    "    .select_dtypes(exclude=\"object\")\n",
    "    .columns\n",
    "    .drop(\n",
    "        labels=[\"y\"]\n",
    "    )\n",
    "    .to_list()\n",
    ")"
   ]
  },
  {
   "cell_type": "markdown",
   "id": "eda6c9ce",
   "metadata": {},
   "source": [
    "## Train val split"
   ]
  },
  {
   "cell_type": "code",
   "execution_count": 5,
   "id": "0fa93bd7",
   "metadata": {},
   "outputs": [],
   "source": [
    "train_df, val_df = train_test_split(original_train_df, test_size=0.3)"
   ]
  },
  {
   "cell_type": "markdown",
   "id": "f429978a",
   "metadata": {},
   "source": [
    "## Preprocessing and train pipeline"
   ]
  },
  {
   "cell_type": "code",
   "execution_count": 6,
   "id": "73739952",
   "metadata": {},
   "outputs": [],
   "source": [
    "from imblearn.over_sampling import SMOTE"
   ]
  },
  {
   "cell_type": "code",
   "execution_count": 7,
   "id": "a71c3d11",
   "metadata": {},
   "outputs": [],
   "source": [
    "power_pipeline = Pipeline(\n",
    "    [\n",
    "        (\"passthrough\", \"passthrough\")\n",
    "        # (\"clip\", ClipValues(quantile_range=(0.25, 0.75))),\n",
    "        # (\"power_transform\", PowerTransformer(\"yeo-johnson\", standardize=True)),\n",
    "        # (\"splines\", SplineTransformer(n_knots=10, knots=\"quantile\"))\n",
    "    ],\n",
    ")\n",
    "\n",
    "cat_encoder = Pipeline(\n",
    "    [\n",
    "        (\"encoder\", OrdinalEncoder()),\n",
    "        \n",
    "    ]\n",
    ")\n",
    "\n",
    "target_encoder = TargetEncoder()\n",
    "sin_preprocess = SinePreprocess(\n",
    "    {\n",
    "        \"day\": 31,\n",
    "        \"month\": 12\n",
    "    }\n",
    ")\n",
    "\n",
    "preprocessing_pipeline_0 = ColumnTransformer(\n",
    "    [\n",
    "        (\"numerical\", power_pipeline, [\"balance\", \"duration\", \"campaign\", \"pdays\", \"previous\", \"age\"]),\n",
    "        (\"encode\", cat_encoder, [\"default\", \"housing\", \"loan\", \"poutcome\", \"education\", \"contact\", \"job\", \"marital\"]),\n",
    "        (\"target_encoder\", target_encoder, [\"month\"]),\n",
    "        (\"sine_preproces\", sin_preprocess, [\"day\", \"month\"]),\n",
    "    ],\n",
    "    verbose_feature_names_out=False\n",
    ")\n",
    "\n",
    "pipeline = Pipeline(\n",
    "    [\n",
    "        (\"month_transform_to_categorical\", FunctionTransformer(\n",
    "            convert_months_to_categorical, \n",
    "            validate=False,\n",
    "        )),\n",
    "        # (\"interactions\", interactions_transformer),\n",
    "        (\"preprocess_0\", preprocessing_pipeline_0),\n",
    "        # (\"smote\", SMOTE(random_state=42)),\n",
    "        (\"logistic_regression\", HistGradientBoostingClassifier(\n",
    "            learning_rate = 0.1,\n",
    "            class_weight = \"balanced\"\n",
    "        ))\n",
    "    ]\n",
    ")"
   ]
  },
  {
   "cell_type": "code",
   "execution_count": 8,
   "id": "50dfe864",
   "metadata": {},
   "outputs": [],
   "source": [
    "fitted_pipeline = pipeline.fit(train_df, train_df[y_var])"
   ]
  },
  {
   "cell_type": "markdown",
   "id": "e17d3563",
   "metadata": {},
   "source": [
    "## Evaluation"
   ]
  },
  {
   "cell_type": "code",
   "execution_count": 9,
   "id": "86dec572",
   "metadata": {},
   "outputs": [
    {
     "data": {
      "text/plain": [
       "{'auc': np.float64(0.9658902774249954),\n",
       " 'accuracy': 0.882312380952381,\n",
       " 'f1': 0.6580098081542737}"
      ]
     },
     "execution_count": 9,
     "metadata": {},
     "output_type": "execute_result"
    }
   ],
   "source": [
    "# train_df_preprocessed = fitted_pipeline.transform(train_df)\n",
    "train_pred_probs = fitted_pipeline.predict_proba(train_df)[:, 1]\n",
    "calculate_score(train_df[\"y\"], train_pred_probs)"
   ]
  },
  {
   "cell_type": "code",
   "execution_count": 10,
   "id": "f621c77c",
   "metadata": {},
   "outputs": [
    {
     "data": {
      "text/plain": [
       "{'auc': np.float64(0.9647730857229863),\n",
       " 'accuracy': 0.8813911111111111,\n",
       " 'f1': 0.656851525632948}"
      ]
     },
     "execution_count": 10,
     "metadata": {},
     "output_type": "execute_result"
    }
   ],
   "source": [
    "# train_df_preprocessed = fitted_pipeline.transform(train_df)\n",
    "val_pred_probs = fitted_pipeline.predict_proba(val_df)[:, 1]\n",
    "calculate_score(val_df[\"y\"], val_pred_probs)"
   ]
  },
  {
   "cell_type": "markdown",
   "id": "2f022c2f",
   "metadata": {},
   "source": [
    "## Model Review"
   ]
  },
  {
   "cell_type": "code",
   "execution_count": 11,
   "id": "d606a560",
   "metadata": {},
   "outputs": [
    {
     "data": {
      "text/html": [
       "<div>\n",
       "<style scoped>\n",
       "    .dataframe tbody tr th:only-of-type {\n",
       "        vertical-align: middle;\n",
       "    }\n",
       "\n",
       "    .dataframe tbody tr th {\n",
       "        vertical-align: top;\n",
       "    }\n",
       "\n",
       "    .dataframe thead th {\n",
       "        text-align: right;\n",
       "    }\n",
       "</style>\n",
       "<table border=\"1\" class=\"dataframe\">\n",
       "  <thead>\n",
       "    <tr style=\"text-align: right;\">\n",
       "      <th></th>\n",
       "      <th>age</th>\n",
       "      <th>job</th>\n",
       "      <th>marital</th>\n",
       "      <th>education</th>\n",
       "      <th>default</th>\n",
       "      <th>balance</th>\n",
       "      <th>housing</th>\n",
       "      <th>loan</th>\n",
       "      <th>contact</th>\n",
       "      <th>day</th>\n",
       "      <th>month</th>\n",
       "      <th>duration</th>\n",
       "      <th>campaign</th>\n",
       "      <th>pdays</th>\n",
       "      <th>previous</th>\n",
       "      <th>poutcome</th>\n",
       "      <th>y</th>\n",
       "    </tr>\n",
       "    <tr>\n",
       "      <th>id</th>\n",
       "      <th></th>\n",
       "      <th></th>\n",
       "      <th></th>\n",
       "      <th></th>\n",
       "      <th></th>\n",
       "      <th></th>\n",
       "      <th></th>\n",
       "      <th></th>\n",
       "      <th></th>\n",
       "      <th></th>\n",
       "      <th></th>\n",
       "      <th></th>\n",
       "      <th></th>\n",
       "      <th></th>\n",
       "      <th></th>\n",
       "      <th></th>\n",
       "      <th></th>\n",
       "    </tr>\n",
       "  </thead>\n",
       "  <tbody>\n",
       "    <tr>\n",
       "      <th>534278</th>\n",
       "      <td>26</td>\n",
       "      <td>services</td>\n",
       "      <td>single</td>\n",
       "      <td>secondary</td>\n",
       "      <td>no</td>\n",
       "      <td>102</td>\n",
       "      <td>no</td>\n",
       "      <td>no</td>\n",
       "      <td>cellular</td>\n",
       "      <td>28</td>\n",
       "      <td>jul</td>\n",
       "      <td>477</td>\n",
       "      <td>3</td>\n",
       "      <td>-1</td>\n",
       "      <td>0</td>\n",
       "      <td>unknown</td>\n",
       "      <td>0</td>\n",
       "    </tr>\n",
       "    <tr>\n",
       "      <th>468194</th>\n",
       "      <td>35</td>\n",
       "      <td>management</td>\n",
       "      <td>married</td>\n",
       "      <td>tertiary</td>\n",
       "      <td>no</td>\n",
       "      <td>0</td>\n",
       "      <td>no</td>\n",
       "      <td>no</td>\n",
       "      <td>cellular</td>\n",
       "      <td>31</td>\n",
       "      <td>jul</td>\n",
       "      <td>88</td>\n",
       "      <td>2</td>\n",
       "      <td>-1</td>\n",
       "      <td>0</td>\n",
       "      <td>unknown</td>\n",
       "      <td>0</td>\n",
       "    </tr>\n",
       "    <tr>\n",
       "      <th>695506</th>\n",
       "      <td>47</td>\n",
       "      <td>technician</td>\n",
       "      <td>married</td>\n",
       "      <td>secondary</td>\n",
       "      <td>no</td>\n",
       "      <td>-432</td>\n",
       "      <td>no</td>\n",
       "      <td>yes</td>\n",
       "      <td>cellular</td>\n",
       "      <td>12</td>\n",
       "      <td>aug</td>\n",
       "      <td>645</td>\n",
       "      <td>8</td>\n",
       "      <td>-1</td>\n",
       "      <td>0</td>\n",
       "      <td>unknown</td>\n",
       "      <td>0</td>\n",
       "    </tr>\n",
       "    <tr>\n",
       "      <th>2653</th>\n",
       "      <td>25</td>\n",
       "      <td>management</td>\n",
       "      <td>single</td>\n",
       "      <td>tertiary</td>\n",
       "      <td>no</td>\n",
       "      <td>1776</td>\n",
       "      <td>yes</td>\n",
       "      <td>no</td>\n",
       "      <td>cellular</td>\n",
       "      <td>24</td>\n",
       "      <td>sep</td>\n",
       "      <td>479</td>\n",
       "      <td>1</td>\n",
       "      <td>184</td>\n",
       "      <td>1</td>\n",
       "      <td>success</td>\n",
       "      <td>1</td>\n",
       "    </tr>\n",
       "    <tr>\n",
       "      <th>175452</th>\n",
       "      <td>27</td>\n",
       "      <td>blue-collar</td>\n",
       "      <td>single</td>\n",
       "      <td>secondary</td>\n",
       "      <td>no</td>\n",
       "      <td>496</td>\n",
       "      <td>yes</td>\n",
       "      <td>no</td>\n",
       "      <td>unknown</td>\n",
       "      <td>9</td>\n",
       "      <td>may</td>\n",
       "      <td>137</td>\n",
       "      <td>3</td>\n",
       "      <td>-1</td>\n",
       "      <td>0</td>\n",
       "      <td>unknown</td>\n",
       "      <td>0</td>\n",
       "    </tr>\n",
       "  </tbody>\n",
       "</table>\n",
       "</div>"
      ],
      "text/plain": [
       "        age          job  marital  education default  balance housing loan  \\\n",
       "id                                                                           \n",
       "534278   26     services   single  secondary      no      102      no   no   \n",
       "468194   35   management  married   tertiary      no        0      no   no   \n",
       "695506   47   technician  married  secondary      no     -432      no  yes   \n",
       "2653     25   management   single   tertiary      no     1776     yes   no   \n",
       "175452   27  blue-collar   single  secondary      no      496     yes   no   \n",
       "\n",
       "         contact  day month  duration  campaign  pdays  previous poutcome  y  \n",
       "id                                                                            \n",
       "534278  cellular   28   jul       477         3     -1         0  unknown  0  \n",
       "468194  cellular   31   jul        88         2     -1         0  unknown  0  \n",
       "695506  cellular   12   aug       645         8     -1         0  unknown  0  \n",
       "2653    cellular   24   sep       479         1    184         1  success  1  \n",
       "175452   unknown    9   may       137         3     -1         0  unknown  0  "
      ]
     },
     "execution_count": 11,
     "metadata": {},
     "output_type": "execute_result"
    }
   ],
   "source": [
    "sample = val_df.sample(10000, random_state=42)\n",
    "sample.head()"
   ]
  },
  {
   "cell_type": "code",
   "execution_count": 13,
   "id": "6cb0e03d",
   "metadata": {},
   "outputs": [],
   "source": [
    "from sklearn.inspection import permutation_importance\n",
    "\n",
    "result = permutation_importance(\n",
    "    fitted_pipeline, sample, sample[\"y\"], n_repeats=10, random_state=42\n",
    ")\n",
    "\n",
    "importances_perm = result.importances_mean\n",
    "# for name, score in zip(feature_names, importances_perm):\n",
    "#     print(f\"{name}: {score:.4f}\")\n"
   ]
  },
  {
   "cell_type": "code",
   "execution_count": null,
   "id": "736da09c",
   "metadata": {},
   "outputs": [
    {
     "name": "stdout",
     "output_type": "stream",
     "text": [
      "age: 0.0036\n",
      "job: 0.0001\n",
      "marital: 0.0001\n",
      "education: -0.0002\n",
      "default: 0.0000\n",
      "balance: 0.0073\n",
      "housing: 0.0066\n",
      "loan: 0.0015\n",
      "contact: 0.0211\n",
      "day: 0.0172\n",
      "month: 0.0415\n",
      "duration: 0.1327\n",
      "campaign: 0.0035\n",
      "pdays: 0.0111\n",
      "previous: 0.0002\n",
      "poutcome: 0.0070\n",
      "y: 0.0000\n"
     ]
    }
   ],
   "source": [
    "for name, score in zip(sample.columns, importances_perm):\n",
    "    print(f\"{name}: {score:.4f}\")"
   ]
  },
  {
   "cell_type": "markdown",
   "id": "1f49b9fb",
   "metadata": {},
   "source": [
    "## Submission"
   ]
  },
  {
   "cell_type": "code",
   "execution_count": null,
   "id": "283a14e8",
   "metadata": {},
   "outputs": [],
   "source": [
    "test_pred_probs = fitted_pipeline.predict_proba(test_df)\n",
    "test_pred_probs"
   ]
  },
  {
   "cell_type": "code",
   "execution_count": null,
   "id": "ad619414",
   "metadata": {},
   "outputs": [],
   "source": [
    "submission_lr_balanced = test_df[[]]\n",
    "submission_lr_balanced = submission_lr_balanced.copy()\n",
    "submission_lr_balanced.loc[:, \"y\"] = test_pred_probs[:, 1]\n",
    "submission_lr_balanced.to_csv(\"submission_boosting.csv\")"
   ]
  }
 ],
 "metadata": {
  "kernelspec": {
   "display_name": "Python 3",
   "language": "python",
   "name": "python3"
  },
  "language_info": {
   "codemirror_mode": {
    "name": "ipython",
    "version": 3
   },
   "file_extension": ".py",
   "mimetype": "text/x-python",
   "name": "python",
   "nbconvert_exporter": "python",
   "pygments_lexer": "ipython3",
   "version": "3.13.3"
  }
 },
 "nbformat": 4,
 "nbformat_minor": 5
}
