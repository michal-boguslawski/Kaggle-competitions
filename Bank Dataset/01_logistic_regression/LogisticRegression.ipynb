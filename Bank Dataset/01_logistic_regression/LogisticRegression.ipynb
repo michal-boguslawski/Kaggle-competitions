{
 "cells": [
  {
   "cell_type": "markdown",
   "id": "9546aa67",
   "metadata": {},
   "source": [
    "## Load libraries"
   ]
  },
  {
   "cell_type": "code",
   "execution_count": 1,
   "id": "be851008",
   "metadata": {},
   "outputs": [],
   "source": [
    "import pandas as pd\n",
    "from sklearn.pipeline import Pipeline\n",
    "from sklearn.compose import ColumnTransformer\n",
    "from sklearn.preprocessing import OneHotEncoder, PowerTransformer, TargetEncoder, SplineTransformer, FunctionTransformer\n",
    "from sklearn.model_selection import train_test_split\n",
    "from sklearn.linear_model import LogisticRegression\n",
    "from pathlib import Path\n",
    "import os\n",
    "from sklearn import set_config\n",
    "from sklearn.metrics import accuracy_score, roc_auc_score, f1_score\n",
    "\n",
    "# Enable pandas output globally\n",
    "set_config(transform_output=\"pandas\")"
   ]
  },
  {
   "cell_type": "markdown",
   "id": "610f9733",
   "metadata": {},
   "source": [
    "## Load data"
   ]
  },
  {
   "cell_type": "code",
   "execution_count": 2,
   "id": "083641fe",
   "metadata": {},
   "outputs": [],
   "source": [
    "path = Path.cwd().parent\n",
    "train_file_path = os.path.join(path, \"raw\", \"train.csv\")\n",
    "test_file_path = os.path.join(path, \"raw\", \"test.csv\")"
   ]
  },
  {
   "cell_type": "code",
   "execution_count": 3,
   "id": "b340f0e0",
   "metadata": {},
   "outputs": [],
   "source": [
    "original_train_df = pd.read_csv(train_file_path, index_col=0)\n",
    "test_df = pd.read_csv(test_file_path, index_col=0)"
   ]
  },
  {
   "cell_type": "code",
   "execution_count": 4,
   "id": "714cd305",
   "metadata": {},
   "outputs": [],
   "source": [
    "y_var = \"y\"\n",
    "categorical_variables = original_train_df.select_dtypes(include=\"object\").columns.to_list()\n",
    "numerical_variables = (\n",
    "    original_train_df\n",
    "    .select_dtypes(exclude=\"object\")\n",
    "    .columns\n",
    "    .drop(\n",
    "        labels=[\"pdays\", \"y\"]\n",
    "    )\n",
    "    .to_list()\n",
    ")"
   ]
  },
  {
   "cell_type": "code",
   "execution_count": 5,
   "id": "5068bfbe",
   "metadata": {},
   "outputs": [
    {
     "data": {
      "text/plain": [
       "id\n",
       "0         aug\n",
       "1         jun\n",
       "2         may\n",
       "3         may\n",
       "4         feb\n",
       "         ... \n",
       "749995    jul\n",
       "749996    aug\n",
       "749997    apr\n",
       "749998    aug\n",
       "749999    aug\n",
       "Name: month, Length: 750000, dtype: category\n",
       "Categories (12, object): ['jan' < 'feb' < 'mar' < 'apr' ... 'sep' < 'oct' < 'nov' < 'dec']"
      ]
     },
     "execution_count": 5,
     "metadata": {},
     "output_type": "execute_result"
    }
   ],
   "source": [
    "import sys\n",
    "\n",
    "# Absolute path to your package\n",
    "sys.path.append(os.path.join(path))\n",
    "\n",
    "from utils import convert_months_to_categorical\n",
    "convert_months_to_categorical(original_train_df)[\"month\"]"
   ]
  },
  {
   "cell_type": "markdown",
   "id": "9cd3269a",
   "metadata": {},
   "source": [
    "### train val split"
   ]
  },
  {
   "cell_type": "code",
   "execution_count": 6,
   "id": "505fb1c6",
   "metadata": {},
   "outputs": [],
   "source": [
    "train_df, val_df = train_test_split(original_train_df, test_size=0.3)"
   ]
  },
  {
   "cell_type": "markdown",
   "id": "4377c351",
   "metadata": {},
   "source": [
    "## create first pipeline without feature selection"
   ]
  },
  {
   "cell_type": "markdown",
   "id": "358cf209",
   "metadata": {},
   "source": [
    "### pipeline and fitting"
   ]
  },
  {
   "cell_type": "code",
   "execution_count": 7,
   "id": "b61b9f54",
   "metadata": {},
   "outputs": [],
   "source": [
    "categorical_pipeline = Pipeline(\n",
    "    [\n",
    "        (\"onehotencoding\", OneHotEncoder(drop=\"first\", sparse_output=False)),\n",
    "    ]\n",
    "    \n",
    ")\n",
    "\n",
    "pipeline = Pipeline(\n",
    "    [\n",
    "        (\"month_transform_to_categorical\", FunctionTransformer(convert_months_to_categorical, validate=False)),\n",
    "        (\"column_transformer\", ColumnTransformer(\n",
    "            [\n",
    "                (\"numerical\", \"passthrough\", numerical_variables),\n",
    "                (\"categorical\", categorical_pipeline, categorical_variables),\n",
    "            ]\n",
    "            )\n",
    "        ),\n",
    "        (\"logistic_classifier\", LogisticRegression(solver=\"newton-cholesky\"))\n",
    "    ]\n",
    ")"
   ]
  },
  {
   "cell_type": "code",
   "execution_count": 8,
   "id": "7654765e",
   "metadata": {},
   "outputs": [],
   "source": [
    "fitted_pipeline = pipeline.fit(train_df, train_df[y_var])"
   ]
  },
  {
   "cell_type": "markdown",
   "id": "307c4b8f",
   "metadata": {},
   "source": [
    "### score"
   ]
  },
  {
   "cell_type": "code",
   "execution_count": 9,
   "id": "db79a7c9",
   "metadata": {},
   "outputs": [
    {
     "data": {
      "text/plain": [
       "array([0, 0, 0, ..., 0, 0, 0], shape=(525000,))"
      ]
     },
     "execution_count": 9,
     "metadata": {},
     "output_type": "execute_result"
    }
   ],
   "source": [
    "train_predictions_0 = fitted_pipeline.predict(train_df)\n",
    "train_predictions_0"
   ]
  },
  {
   "cell_type": "code",
   "execution_count": 10,
   "id": "ca5e3a9c",
   "metadata": {},
   "outputs": [
    {
     "name": "stdout",
     "output_type": "stream",
     "text": [
      "On Train AUC: 0.7403, Accuracy: 0.9161, F1 score: 0.5943\n"
     ]
    }
   ],
   "source": [
    "auc_score_0 = roc_auc_score(train_df[y_var], train_predictions_0)\n",
    "accuracy_score_0 = accuracy_score(train_df[y_var], train_predictions_0)\n",
    "f1_score_0 = f1_score(train_df[y_var], train_predictions_0)\n",
    "print(f\"On Train AUC: {auc_score_0:.4f}, Accuracy: {accuracy_score_0:.4f}, F1 score: {f1_score_0:.4f}\")"
   ]
  },
  {
   "cell_type": "code",
   "execution_count": 11,
   "id": "f6a44a3d",
   "metadata": {},
   "outputs": [
    {
     "data": {
      "text/plain": [
       "array([0, 0, 0, ..., 1, 0, 0], shape=(225000,))"
      ]
     },
     "execution_count": 11,
     "metadata": {},
     "output_type": "execute_result"
    }
   ],
   "source": [
    "val_predictions_0 = fitted_pipeline.predict(val_df)\n",
    "val_predictions_0"
   ]
  },
  {
   "cell_type": "code",
   "execution_count": 12,
   "id": "79a04350",
   "metadata": {},
   "outputs": [
    {
     "name": "stdout",
     "output_type": "stream",
     "text": [
      "On Val AUC: 0.7381, Accuracy: 0.9156, F1 score: 0.5894\n"
     ]
    }
   ],
   "source": [
    "auc_score_0 = roc_auc_score(val_df[y_var], val_predictions_0)\n",
    "accuracy_score_0 = accuracy_score(val_df[y_var], val_predictions_0)\n",
    "f1_score_0 = f1_score(val_df[y_var], val_predictions_0)\n",
    "print(f\"On Val AUC: {auc_score_0:.4f}, Accuracy: {accuracy_score_0:.4f}, F1 score: {f1_score_0:.4f}\")"
   ]
  },
  {
   "cell_type": "markdown",
   "id": "1973b7bb",
   "metadata": {},
   "source": [
    "## Submission for simple model"
   ]
  },
  {
   "cell_type": "code",
   "execution_count": 13,
   "id": "355b5cae",
   "metadata": {},
   "outputs": [
    {
     "data": {
      "text/plain": [
       "array([0, 0, 0, ..., 0, 0, 0], shape=(250000,))"
      ]
     },
     "execution_count": 13,
     "metadata": {},
     "output_type": "execute_result"
    }
   ],
   "source": [
    "test_predictions = fitted_pipeline.predict(test_df)\n",
    "test_predictions"
   ]
  },
  {
   "cell_type": "code",
   "execution_count": 14,
   "id": "22a94c15",
   "metadata": {},
   "outputs": [],
   "source": [
    "submission_0 = test_df[[]]\n",
    "submission_0 = submission_0.copy()\n",
    "submission_0.loc[:, \"y\"] = test_predictions\n",
    "submission_0.to_csv(\"submission_0.csv\")"
   ]
  },
  {
   "cell_type": "markdown",
   "id": "b74fb9aa",
   "metadata": {},
   "source": [
    "## LogisticRegression with feature engineering"
   ]
  },
  {
   "cell_type": "code",
   "execution_count": null,
   "id": "bc0b3201",
   "metadata": {},
   "outputs": [],
   "source": [
    "power_pipeline = Pipeline(\n",
    "    [\n",
    "        (\"power_transform\", PowerTransformer(\"yeo-johnson\", standardize=True))\n",
    "    ],\n",
    ")\n",
    "\n",
    "one_hot_pipeline = Pipeline(\n",
    "    [\n",
    "        (\"one_hot\", OneHotEncoder(drop=\"first\", sparse_output=False))\n",
    "    ]\n",
    ")\n",
    "\n",
    "target_encoder = TargetEncoder()\n",
    "\n",
    "preprocessing_pipeline_0 = ColumnTransformer(\n",
    "    [\n",
    "        (\"numerical\", power_pipeline, [\"age\", \"balance\", \"duration\", \"campaign\", \"previous\"]),\n",
    "        (\"to_one_hot\", one_hot_pipeline, [\"default\", \"housing\", \"loan\", \"poutcome\"]),\n",
    "        (\"target_encoder\", target_encoder, [\"month\", \"day\", \"job\", \"marital\", \"education\"]),\n",
    "    ],\n",
    "    verbose_feature_names_out=False\n",
    ")\n",
    "\n",
    "preprocessing_pipeline_1 = ColumnTransformer(\n",
    "    [\n",
    "        (\"spline\", SplineTransformer(n_knots=3), [\"age\"]),\n",
    "    ],\n",
    "    remainder=\"passthrough\"\n",
    ")\n",
    "\n",
    "pipeline = Pipeline(\n",
    "    [\n",
    "        (\"month_transform_to_categorical\", FunctionTransformer(\n",
    "            convert_months_to_categorical, \n",
    "            validate=False,\n",
    "        )),\n",
    "        (\"preprocess_0\", preprocessing_pipeline_0),\n",
    "        (\"preprocess_1\", preprocessing_pipeline_1),\n",
    "        (\"logistic\", LogisticRegression(\n",
    "            solver=\"newton-cholesky\",\n",
    "            class_weight=\"balanced\"\n",
    "        ))\n",
    "    ]\n",
    ")"
   ]
  },
  {
   "cell_type": "code",
   "execution_count": 16,
   "id": "5b9bdf78",
   "metadata": {},
   "outputs": [],
   "source": [
    "fitted_pipeline = pipeline.fit(train_df, train_df[y_var])"
   ]
  },
  {
   "cell_type": "markdown",
   "id": "b9720fe3",
   "metadata": {},
   "source": [
    "### score"
   ]
  },
  {
   "cell_type": "code",
   "execution_count": 17,
   "id": "c9d4cb5a",
   "metadata": {},
   "outputs": [
    {
     "data": {
      "text/plain": [
       "array([0, 0, 0, ..., 1, 1, 0], shape=(525000,))"
      ]
     },
     "execution_count": 17,
     "metadata": {},
     "output_type": "execute_result"
    }
   ],
   "source": [
    "train_predictions_1 = fitted_pipeline.predict(train_df)\n",
    "train_predictions_1"
   ]
  },
  {
   "cell_type": "code",
   "execution_count": 18,
   "id": "b97c8428",
   "metadata": {},
   "outputs": [
    {
     "name": "stdout",
     "output_type": "stream",
     "text": [
      "On Train AUC: 0.8744, Accuracy: 0.8523, F1 score: 0.5967\n"
     ]
    }
   ],
   "source": [
    "auc_score_1 = roc_auc_score(train_df[y_var], train_predictions_1)\n",
    "accuracy_score_1 = accuracy_score(train_df[y_var], train_predictions_1)\n",
    "f1_score_1 = f1_score(train_df[y_var], train_predictions_1)\n",
    "print(f\"On Train AUC: {auc_score_1:.4f}, Accuracy: {accuracy_score_1:.4f}, F1 score: {f1_score_1:.4f}\")"
   ]
  },
  {
   "cell_type": "code",
   "execution_count": 23,
   "id": "8dd15d27",
   "metadata": {},
   "outputs": [
    {
     "data": {
      "text/plain": [
       "(array([0, 1]), array([396248, 128752]))"
      ]
     },
     "execution_count": 23,
     "metadata": {},
     "output_type": "execute_result"
    }
   ],
   "source": [
    "import numpy as np\n",
    "np.unique(train_predictions_1, return_counts=True)"
   ]
  },
  {
   "cell_type": "markdown",
   "id": "f61c951e",
   "metadata": {},
   "source": [
    "## Errors analysis"
   ]
  },
  {
   "cell_type": "code",
   "execution_count": 27,
   "id": "7e7f9adc",
   "metadata": {},
   "outputs": [
    {
     "data": {
      "text/plain": [
       "age                 59\n",
       "job            retired\n",
       "marital        married\n",
       "education    secondary\n",
       "default             no\n",
       "balance           3232\n",
       "housing             no\n",
       "loan                no\n",
       "contact       cellular\n",
       "day                 18\n",
       "month              nov\n",
       "duration           564\n",
       "campaign             1\n",
       "pdays               -1\n",
       "previous             0\n",
       "poutcome       unknown\n",
       "y                    0\n",
       "proba         0.131731\n",
       "preds                1\n",
       "Name: 587133, dtype: object"
      ]
     },
     "execution_count": 27,
     "metadata": {},
     "output_type": "execute_result"
    }
   ],
   "source": [
    "errors_train_df = train_df.copy()\n",
    "errors_train_df[\"proba\"] = fitted_pipeline.predict_proba(train_df)[:, 0]\n",
    "errors_train_df[\"preds\"] = train_predictions_1\n",
    "errors_train_df.loc[587133]"
   ]
  },
  {
   "cell_type": "code",
   "execution_count": 30,
   "id": "ee076703",
   "metadata": {},
   "outputs": [
    {
     "data": {
      "text/plain": [
       "array([[-0.52888346, -2.05517994, -3.70675791, -3.24226163,  9.53308294,\n",
       "         0.17625889,  2.32679572, -0.24608013,  0.27088326,  0.11493894,\n",
       "        -0.9770349 , -0.63069084,  0.15584671,  2.83054179,  0.52780303,\n",
       "         6.08052971,  6.22308446,  2.95367039,  3.69039711,  6.38888648]])"
      ]
     },
     "execution_count": 30,
     "metadata": {},
     "output_type": "execute_result"
    }
   ],
   "source": [
    "fitted_pipeline[\"logistic\"].coef_"
   ]
  },
  {
   "cell_type": "markdown",
   "id": "5070fd53",
   "metadata": {},
   "source": [
    "## Submission of more complex model"
   ]
  },
  {
   "cell_type": "code",
   "execution_count": 20,
   "id": "5730cb8a",
   "metadata": {},
   "outputs": [
    {
     "data": {
      "text/plain": [
       "array([0, 1, 0, ..., 1, 0, 0], shape=(250000,))"
      ]
     },
     "execution_count": 20,
     "metadata": {},
     "output_type": "execute_result"
    }
   ],
   "source": [
    "test_predictions = fitted_pipeline.predict(test_df)\n",
    "test_predictions"
   ]
  },
  {
   "cell_type": "code",
   "execution_count": 21,
   "id": "53aabb05",
   "metadata": {},
   "outputs": [],
   "source": [
    "submission_lr_balanced = test_df[[]]\n",
    "submission_lr_balanced = submission_lr_balanced.copy()\n",
    "submission_lr_balanced.loc[:, \"y\"] = test_predictions\n",
    "submission_lr_balanced.to_csv(\"submission_lr_balanced.csv\")"
   ]
  }
 ],
 "metadata": {
  "kernelspec": {
   "display_name": "Python 3",
   "language": "python",
   "name": "python3"
  },
  "language_info": {
   "codemirror_mode": {
    "name": "ipython",
    "version": 3
   },
   "file_extension": ".py",
   "mimetype": "text/x-python",
   "name": "python",
   "nbconvert_exporter": "python",
   "pygments_lexer": "ipython3",
   "version": "3.13.3"
  }
 },
 "nbformat": 4,
 "nbformat_minor": 5
}
